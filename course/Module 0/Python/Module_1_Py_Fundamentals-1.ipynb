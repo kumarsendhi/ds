{
 "cells": [
  {
   "cell_type": "markdown",
   "metadata": {},
   "source": [
    "#  MODULE 1:  Python    Fundamentals \n",
    "\n"
   ]
  },
  {
   "cell_type": "markdown",
   "metadata": {},
   "source": [
    "### Basics "
   ]
  },
  {
   "cell_type": "code",
   "execution_count": 1,
   "metadata": {},
   "outputs": [
    {
     "name": "stdout",
     "output_type": "stream",
     "text": [
      "Hello World\n"
     ]
    }
   ],
   "source": [
    "# Hello  World\n",
    "print(\"Hello World\")"
   ]
  },
  {
   "cell_type": "code",
   "execution_count": 2,
   "metadata": {},
   "outputs": [
    {
     "name": "stdout",
     "output_type": "stream",
     "text": [
      "True\n"
     ]
    }
   ],
   "source": [
    "#Indentation : Correct Way \n",
    "if True:\n",
    "    print (\"True\")\n",
    "else:\n",
    "    print (\"False\")"
   ]
  },
  {
   "cell_type": "code",
   "execution_count": 3,
   "metadata": {},
   "outputs": [
    {
     "name": "stdout",
     "output_type": "stream",
     "text": [
      "Answer\n",
      "True\n",
      "False\n"
     ]
    }
   ],
   "source": [
    "# Indentation : Improper \n",
    "if True:\n",
    "    print (\"Answer\")\n",
    "    print (\"True\")\n",
    "else:\n",
    "    print (\"Answer\")\n",
    "print (\"False\")"
   ]
  },
  {
   "cell_type": "code",
   "execution_count": 4,
   "metadata": {},
   "outputs": [
    {
     "name": "stdout",
     "output_type": "stream",
     "text": [
      "Total =  6\n"
     ]
    }
   ],
   "source": [
    "# Multiline\n",
    "item_one = 1\n",
    "item_two = 2\n",
    "item_three = 3\n",
    "total = item_one + \\\n",
    "        item_two + \\\n",
    "        item_three\n",
    "print(\"Total = \",total)        "
   ]
  },
  {
   "cell_type": "code",
   "execution_count": 5,
   "metadata": {},
   "outputs": [
    {
     "name": "stdout",
     "output_type": "stream",
     "text": [
      "1st Week day is  Mon\n"
     ]
    }
   ],
   "source": [
    "# Array elements declaration \n",
    "Day_of_Week = [\"Mon\",\"Tue\",\"Wed\",\"Thu\",\"Fri\",\"Sat\",\"Sun\"]\n",
    "                  \n",
    "print(\"1st Week day is \",Day_of_Week[0])\n"
   ]
  },
  {
   "cell_type": "code",
   "execution_count": 6,
   "metadata": {},
   "outputs": [
    {
     "name": "stdout",
     "output_type": "stream",
     "text": [
      "z = x +y =  9\n"
     ]
    }
   ],
   "source": [
    "# Multiple commands in one line \n",
    "x=4; y=5; z = x + y ; print(\"z = x +y = \",z)"
   ]
  },
  {
   "cell_type": "code",
   "execution_count": 7,
   "metadata": {},
   "outputs": [
    {
     "name": "stdout",
     "output_type": "stream",
     "text": [
      "1 2 john\n"
     ]
    }
   ],
   "source": [
    "#Multiple values to multiple variables\n",
    "a,b,c = 1,2,\"john\"\n",
    "print(a,b,c)\n"
   ]
  },
  {
   "cell_type": "markdown",
   "metadata": {},
   "source": [
    "### Strings   Lists and Tuples  and Dictionaries "
   ]
  },
  {
   "cell_type": "code",
   "execution_count": 8,
   "metadata": {},
   "outputs": [
    {
     "name": "stdout",
     "output_type": "stream",
     "text": [
      "Hello World!\n",
      "H\n",
      "llo W\n",
      "llo World!\n",
      "Hello World!Hello World!\n",
      "Hello World!TEST\n"
     ]
    }
   ],
   "source": [
    "# Strings\n",
    "str = 'Hello World!'\n",
    "\n",
    "print (str)          # Prints complete string\n",
    "print (str[0])       # Prints first character of the string\n",
    "print (str[2:7])     # Prints characters starting from 3rd to 5th\n",
    "print (str[2:])      # Prints string starting from 3rd character\n",
    "print (str * 2)      # Prints string two times\n",
    "print (str + \"TEST\") # Prints concatenated string"
   ]
  },
  {
   "cell_type": "code",
   "execution_count": 9,
   "metadata": {},
   "outputs": [
    {
     "name": "stdout",
     "output_type": "stream",
     "text": [
      "['abcd', 1234, 23.2, 'pqr', 99]\n",
      "abcd\n",
      "[1234, 23.2]\n",
      "[23.2, 'pqr', 99]\n",
      "[1234, 'abcd', 1234, 'abcd']\n",
      "['abcd', 1234, 23.2, 'pqr', 99, 1234, 'abcd']\n",
      "['abcd', 25, 23.2, 'pqr', 99]\n"
     ]
    }
   ],
   "source": [
    "# lists\n",
    "list1 = ['abcd', 1234, 23.2, 'pqr', 99 ]\n",
    "sublist1 = [1234, 'abcd']\n",
    "\n",
    "print (list1)          # Prints complete list\n",
    "print (list1[0])       # Prints first element of the list\n",
    "print (list1[1:3])    # Prints elements starting from 2nd till 3rd \n",
    "print (list1[2:])      # Prints elements starting from 3rd element\n",
    "print (sublist1 * 2)  # Prints list two times\n",
    "print (list1 + sublist1) # Prints concatenated lists\n",
    "\n",
    "list1[1] = 25        # change second element of a list \n",
    "print(list1)         # Prints entire list"
   ]
  },
  {
   "cell_type": "code",
   "execution_count": 10,
   "metadata": {},
   "outputs": [
    {
     "name": "stdout",
     "output_type": "stream",
     "text": [
      "('abcd', 1234, 23.2, 'pqr', 99)\n",
      "abcd\n",
      "(1234, 23.2)\n",
      "(23.2, 'pqr', 99)\n",
      "(1234, 'abcd', 1234, 'abcd')\n",
      "('abcd', 1234, 23.2, 'pqr', 99, 1234, 'abcd')\n"
     ]
    }
   ],
   "source": [
    "# tuples - Read only lists \n",
    "tuple1 = ('abcd', 1234, 23.2, 'pqr', 99)\n",
    "subtuple1 = (1234, 'abcd')\n",
    "\n",
    "print (tuple1)           # Prints complete list\n",
    "print (tuple1[0])        # Prints first element of the list\n",
    "print (tuple1[1:3])      # Prints elements starting from 2nd till 3rd \n",
    "print (tuple1[2:])       # Prints elements starting from 3rd element\n",
    "print (subtuple1 * 2)   # Prints list two times\n",
    "print (tuple1 + subtuple1) # Prints concatenated lists"
   ]
  },
  {
   "cell_type": "code",
   "execution_count": 11,
   "metadata": {},
   "outputs": [
    {
     "ename": "TypeError",
     "evalue": "'tuple' object does not support item assignment",
     "output_type": "error",
     "traceback": [
      "\u001b[1;31m---------------------------------------------------------------------------\u001b[0m",
      "\u001b[1;31mTypeError\u001b[0m                                 Traceback (most recent call last)",
      "\u001b[1;32m<ipython-input-11-73c47fd2f252>\u001b[0m in \u001b[0;36m<module>\u001b[1;34m\u001b[0m\n\u001b[1;32m----> 1\u001b[1;33m \u001b[0mtuple1\u001b[0m\u001b[1;33m[\u001b[0m\u001b[1;36m1\u001b[0m\u001b[1;33m]\u001b[0m \u001b[1;33m=\u001b[0m \u001b[1;36m25\u001b[0m        \u001b[1;31m# change second element of a tuple\u001b[0m\u001b[1;33m\u001b[0m\u001b[1;33m\u001b[0m\u001b[0m\n\u001b[0m",
      "\u001b[1;31mTypeError\u001b[0m: 'tuple' object does not support item assignment"
     ]
    }
   ],
   "source": [
    "tuple1[1] = 25        # change second element of a tuple"
   ]
  },
  {
   "cell_type": "code",
   "execution_count": 12,
   "metadata": {},
   "outputs": [
    {
     "name": "stdout",
     "output_type": "stream",
     "text": [
      "Alpha\n",
      "Gamma\n",
      "{'one': 'Alpha', 2: 'Gamma'}\n",
      "dict_keys(['Name', 'roll', 'Dept'])\n",
      "dict_values(['Joe', 1234, 'Sales'])\n"
     ]
    }
   ],
   "source": [
    "# Dictionary \n",
    "dict1 = {}\n",
    "dict1['one'] = \"Alpha\"\n",
    "dict1[2]     = \"Beta\"\n",
    "dict1[2]     = \"Gamma\"\n",
    "\n",
    "dict2 = {'Name': 'Joe','roll':1234, 'Dept': 'Sales'}\n",
    "\n",
    "print (dict1['one'])     # Prints value for 'one' key\n",
    "print (dict1[2])         # Prints value for 2 key\n",
    "print (dict1)            # Prints complete dictionary\n",
    "print (dict2.keys())     # Prints all the keys\n",
    "print (dict2.values())   # Prints all the values"
   ]
  },
  {
   "cell_type": "markdown",
   "metadata": {},
   "source": [
    "### Basic operators \n"
   ]
  },
  {
   "cell_type": "code",
   "execution_count": 13,
   "metadata": {},
   "outputs": [
    {
     "name": "stdout",
     "output_type": "stream",
     "text": [
      "a+b =  16\n",
      "a-b =  6\n",
      "a*b =  55\n",
      "a/b =  2.2\n",
      "a//b =  2\n",
      "a%b =  1\n",
      "x**y =  32\n"
     ]
    }
   ],
   "source": [
    "#----------------------------------------\n",
    "# Arithmetic Operators \n",
    "a = 11\n",
    "b = 5\n",
    "c = 0\n",
    "x = 2\n",
    "y = 5\n",
    "#------------------------------------\n",
    "c = a + b # sum \n",
    "print(\"a+b = \",c)\n",
    "\n",
    "c = a - b  #subtraction \n",
    "print(\"a-b = \",c) \n",
    "\n",
    "c = a * b # Multiplication \n",
    "print(\"a*b = \",c) \n",
    "\n",
    "c = a / b # Division \n",
    "print(\"a/b = \",c)\n",
    "\n",
    "c = a // b # Division \n",
    "print(\"a//b = \",c)\n",
    "\n",
    "c = a % b # Modulo Division \n",
    "print(\"a%b = \",c)\n",
    "\n",
    "c = x**y # exponent\n",
    "print(\"x**y = \",c) "
   ]
  },
  {
   "cell_type": "markdown",
   "metadata": {},
   "source": [
    " ### Comparison Operators "
   ]
  },
  {
   "cell_type": "code",
   "execution_count": 14,
   "metadata": {},
   "outputs": [],
   "source": [
    "# Set variable values \n",
    "a = 21;b = 10;c = 0"
   ]
  },
  {
   "cell_type": "code",
   "execution_count": 15,
   "metadata": {},
   "outputs": [
    {
     "name": "stdout",
     "output_type": "stream",
     "text": [
      "Line 1 - a is not equal to b\n"
     ]
    }
   ],
   "source": [
    "# Equality check \n",
    "if ( a == b ):  \n",
    "   print (\"Line 1 - a is equal to b\")\n",
    "else:\n",
    "   print (\"Line 1 - a is not equal to b\")"
   ]
  },
  {
   "cell_type": "code",
   "execution_count": 16,
   "metadata": {},
   "outputs": [
    {
     "name": "stdout",
     "output_type": "stream",
     "text": [
      "Line 2 - a is not equal to b\n"
     ]
    }
   ],
   "source": [
    "if ( a != b ):  # NOT operator check \n",
    "   print (\"Line 2 - a is not equal to b\")\n",
    "else:\n",
    "   print (\"Line 2 - a is equal to b\")"
   ]
  },
  {
   "cell_type": "code",
   "execution_count": 17,
   "metadata": {},
   "outputs": [],
   "source": [
    "a = 21;b = 10;c = 0  "
   ]
  },
  {
   "cell_type": "code",
   "execution_count": 18,
   "metadata": {},
   "outputs": [
    {
     "name": "stdout",
     "output_type": "stream",
     "text": [
      "Line 4 - a is not less than b\n"
     ]
    }
   ],
   "source": [
    "\n",
    "if ( a < b ): # Less than check \n",
    "   print (\"Line 4 - a is less than b\" )\n",
    "else:\n",
    "   print (\"Line 4 - a is not less than b\")"
   ]
  },
  {
   "cell_type": "code",
   "execution_count": 19,
   "metadata": {},
   "outputs": [
    {
     "name": "stdout",
     "output_type": "stream",
     "text": [
      "Line 5 - a is greater than b\n"
     ]
    }
   ],
   "source": [
    "if ( a > b ): # Greater than check \n",
    "   print (\"Line 5 - a is greater than b\")\n",
    "else:\n",
    "   print (\"Line 5 - a is not greater than b\")"
   ]
  },
  {
   "cell_type": "code",
   "execution_count": 20,
   "metadata": {},
   "outputs": [
    {
     "name": "stdout",
     "output_type": "stream",
     "text": [
      "Line 6 - a is neither less than nor equal to  b\n"
     ]
    }
   ],
   "source": [
    "a = 21;b = 10;c = 0\n",
    "\n",
    "if ( a <= b ):  # Less than equal \n",
    "   print (\"Line 6 - a is either less than or equal to  b\")\n",
    "else:\n",
    "  print (\"Line 6 - a is neither less than nor equal to  b\")"
   ]
  },
  {
   "cell_type": "code",
   "execution_count": 21,
   "metadata": {},
   "outputs": [
    {
     "name": "stdout",
     "output_type": "stream",
     "text": [
      "Line 7 - b is neither greater than  nor equal to b\n"
     ]
    }
   ],
   "source": [
    "if ( b >= a ):  # Greater than equal \n",
    "   print (\"Line 7 - b is either greater than  or equal to b\")\n",
    "else:\n",
    "   print (\"Line 7 - b is neither greater than  nor equal to b\")"
   ]
  },
  {
   "cell_type": "markdown",
   "metadata": {},
   "source": [
    "### Assignment Operators \n",
    "\n"
   ]
  },
  {
   "cell_type": "code",
   "execution_count": 22,
   "metadata": {},
   "outputs": [
    {
     "name": "stdout",
     "output_type": "stream",
     "text": [
      "Line 1 - Value of c is  25\n",
      "Line 2 - Value of c is  40\n",
      "Line 3 - Value of c is  600\n",
      "Line 4 - Value of c is  40.0\n"
     ]
    }
   ],
   "source": [
    "\n",
    "a = 15\n",
    "b = 10\n",
    "c = 0\n",
    "\n",
    "c = a + b\n",
    "print (\"Line 1 - Value of c is \", c)\n",
    "\n",
    "c += a\n",
    "print (\"Line 2 - Value of c is \", c )\n",
    "\n",
    "c *= a\n",
    "print (\"Line 3 - Value of c is \", c )\n",
    "\n",
    "c /= a \n",
    "print (\"Line 4 - Value of c is \", c )\n",
    " "
   ]
  },
  {
   "cell_type": "code",
   "execution_count": 23,
   "metadata": {},
   "outputs": [
    {
     "name": "stdout",
     "output_type": "stream",
     "text": [
      "Line 5 - Value of c is  2\n",
      "Line 6 - Value of c is  32768\n",
      "Line 7 - Value of c is  2184\n"
     ]
    }
   ],
   "source": [
    "c  = 2\n",
    "print (\"Line 5 - Value of c is \", c)\n",
    "\n",
    "c **= a\n",
    "print (\"Line 6 - Value of c is \", c)\n",
    "\n",
    "c //= a\n",
    "print (\"Line 7 - Value of c is \", c) "
   ]
  },
  {
   "cell_type": "code",
   "execution_count": 24,
   "metadata": {},
   "outputs": [
    {
     "name": "stdout",
     "output_type": "stream",
     "text": [
      "Line 8 - Value of c is  9\n"
     ]
    }
   ],
   "source": [
    "c %= a \n",
    "print(\"Line 8 - Value of c is \", c)"
   ]
  },
  {
   "cell_type": "markdown",
   "metadata": {},
   "source": [
    "### Logical Operators "
   ]
  },
  {
   "cell_type": "code",
   "execution_count": 27,
   "metadata": {},
   "outputs": [
    {
     "name": "stdout",
     "output_type": "stream",
     "text": [
      "Both 'a' and 'b' !=0\n"
     ]
    }
   ],
   "source": [
    "# AND \n",
    "a = 1; b = -2.5\n",
    "if (a and b): \n",
    "   print (\"Both 'a' and 'b' !=0\") \n",
    "else:\n",
    "   print (\"Either 'a' or 'b' or both =0\")"
   ]
  },
  {
   "cell_type": "code",
   "execution_count": 28,
   "metadata": {},
   "outputs": [
    {
     "name": "stdout",
     "output_type": "stream",
     "text": [
      " both 'a' and 'b' =0\n"
     ]
    }
   ],
   "source": [
    "# OR\n",
    "a = 0; b = 0\n",
    "if (a or b): \n",
    "   print (\"at least one of 'a' or 'b' !=0\") \n",
    "else:\n",
    "   print (\" both 'a' and 'b' =0\")\n"
   ]
  },
  {
   "cell_type": "code",
   "execution_count": 29,
   "metadata": {},
   "outputs": [
    {
     "name": "stdout",
     "output_type": "stream",
     "text": [
      "a is <= b\n"
     ]
    }
   ],
   "source": [
    "# NOT\n",
    "a = 4; b = 6\n",
    "if not (a>b): \n",
    "   print (\"a is <= b\") \n",
    "else:\n",
    "   print (\"a is > b \")"
   ]
  },
  {
   "cell_type": "markdown",
   "metadata": {},
   "source": [
    "### Membership operator"
   ]
  },
  {
   "cell_type": "code",
   "execution_count": 30,
   "metadata": {},
   "outputs": [
    {
     "name": "stdout",
     "output_type": "stream",
     "text": [
      "Line 1 - a is not available in the given list\n",
      "Line 2 - b is available in the given list\n"
     ]
    }
   ],
   "source": [
    "a = 10\n",
    "b = 2\n",
    "list1= [1, 2, 3, 4, 5 ];\n",
    "\n",
    "if ( a in list1 ):\n",
    "   print (\"Line 1 - a is available in the given list\")\n",
    "else:\n",
    "   print (\"Line 1 - a is not available in the given list\")\n",
    "\n",
    "if ( b not in list1 ):\n",
    "   print (\"Line 2 - b is not available in the given list\")\n",
    "else:\n",
    "   print (\"Line 2 - b is available in the given list\")"
   ]
  },
  {
   "cell_type": "markdown",
   "metadata": {},
   "source": [
    "### End of Module 1 - Fundamentals "
   ]
  }
 ],
 "metadata": {
  "kernelspec": {
   "display_name": "Python 3",
   "language": "python",
   "name": "python3"
  },
  "language_info": {
   "codemirror_mode": {
    "name": "ipython",
    "version": 3
   },
   "file_extension": ".py",
   "mimetype": "text/x-python",
   "name": "python",
   "nbconvert_exporter": "python",
   "pygments_lexer": "ipython3",
   "version": "3.6.7"
  }
 },
 "nbformat": 4,
 "nbformat_minor": 2
}
