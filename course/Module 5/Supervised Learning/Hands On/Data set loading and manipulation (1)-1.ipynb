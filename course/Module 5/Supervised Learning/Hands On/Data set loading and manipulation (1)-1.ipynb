{
 "cells": [
  {
   "cell_type": "markdown",
   "metadata": {},
   "source": [
    "#  Loading data sets "
   ]
  },
  {
   "cell_type": "markdown",
   "metadata": {},
   "source": [
    "# 1. Loading built in data sets supported in scikit learn.\n",
    "# scikit learn supports several data sets to be used for classification and regression modeling. You may click [here](https://scikit-learn.org/stable/datasets/index.html) for detailed information"
   ]
  },
  {
   "cell_type": "code",
   "execution_count": null,
   "metadata": {},
   "outputs": [],
   "source": [
    "from sklearn import datasets"
   ]
  },
  {
   "cell_type": "code",
   "execution_count": null,
   "metadata": {},
   "outputs": [],
   "source": [
    "# Loading load_wine() data set \n",
    "\n",
    "dataset_wine = datasets.load_wine()\n",
    "\n",
    "# load_wine() is a multi-class classification data set with size (178 x 13) and 3 classes. \n",
    "# All indicator features are numeric in nature. \n",
    "print(dataset_wine)\n"
   ]
  },
  {
   "cell_type": "code",
   "execution_count": null,
   "metadata": {},
   "outputs": [],
   "source": [
    "# printing all data points against indicator variables\n",
    "\n",
    "print(dataset_wine.data)\n",
    "\n",
    "# printing all data points against predictive  variable\n",
    "\n",
    "\n",
    "print(dataset_wine.target)\n"
   ]
  },
  {
   "cell_type": "code",
   "execution_count": null,
   "metadata": {},
   "outputs": [],
   "source": [
    "# Understanding data set\n",
    "\n",
    "print(\"The size of the data set\")\n",
    "print(dataset_wine.data.shape) # to print size of the data set\n",
    "print(\"The size of the target feature\")\n",
    "print(dataset_wine.target.shape) # to print size of target variable\n",
    "print(\"The name of features as as below\")\n",
    "print(dataset_wine.feature_names) # to print feature name\n",
    "print(\"The name of classes in target feature\")\n",
    "print(dataset_wine.target_names) # to print classes in target festure\n",
    "print(\"The sample data of first 5 data points is as below\")\n",
    "print(dataset_wine.data[0:5])# to print first five data points \n",
    "print(\"The sample target values of first 5 data points is as below\")\n",
    "print(dataset_wine.target[0:5])# to print target class of  first five data points"
   ]
  },
  {
   "cell_type": "markdown",
   "metadata": {},
   "source": [
    "# 2. Loading User choice data set  in scikit learn"
   ]
  },
  {
   "cell_type": "code",
   "execution_count": null,
   "metadata": {},
   "outputs": [],
   "source": [
    "import pandas as pd"
   ]
  },
  {
   "cell_type": "code",
   "execution_count": null,
   "metadata": {},
   "outputs": [],
   "source": [
    "# Loading data set from local machine\n",
    "My_dataset = pd.read_csv('/Users/sakshibabbar/Documents/ML/Supervised learning/datasets/liver_dataset.csv')"
   ]
  },
  {
   "cell_type": "code",
   "execution_count": null,
   "metadata": {},
   "outputs": [],
   "source": [
    "# View of the data set\n",
    "My_dataset.head()"
   ]
  },
  {
   "cell_type": "code",
   "execution_count": null,
   "metadata": {},
   "outputs": [],
   "source": [
    "# Understanding data set\n",
    "print(\"The size of the data set\")\n",
    "print(My_dataset.shape)\n",
    "print(\"The data values of first 4 data points are as below(excluding target variable)\")\n",
    "print(My_dataset.iloc[0:4,0:6].values)\n",
    "print(\"The class values of first 4 data points are as below\")\n",
    "print(My_dataset.iloc[0:4,6].values)"
   ]
  }
 ],
 "metadata": {
  "kernelspec": {
   "display_name": "Python 3",
   "language": "python",
   "name": "python3"
  },
  "language_info": {
   "codemirror_mode": {
    "name": "ipython",
    "version": 3
   },
   "file_extension": ".py",
   "mimetype": "text/x-python",
   "name": "python",
   "nbconvert_exporter": "python",
   "pygments_lexer": "ipython3",
   "version": "3.6.5"
  }
 },
 "nbformat": 4,
 "nbformat_minor": 2
}
