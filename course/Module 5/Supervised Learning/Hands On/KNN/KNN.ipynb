{
 "cells": [
  {
   "cell_type": "markdown",
   "metadata": {},
   "source": [
    "# Learning KNN training and Testing using Hold-Out method\n",
    "\n",
    "# The code below demonstrates how KNN model is trained and tested under Hold-Out method. For better understanding, codes below explains building and testing KNN model on data set supported in scikit learn and user specific data set. \n"
   ]
  },
  {
   "cell_type": "markdown",
   "metadata": {},
   "source": [
    "# 1. Loading libraries"
   ]
  },
  {
   "cell_type": "code",
   "execution_count": 1,
   "metadata": {},
   "outputs": [],
   "source": [
    "import pandas as pd\n",
    "from sklearn import datasets # imports built in data sets supported in scikit learn \n",
    "from sklearn.neighbors import KNeighborsClassifier   # imports KNN classifier\n",
    "from sklearn import metrics\n",
    "from sklearn.model_selection import train_test_split # using scikit learn for hold-out"
   ]
  },
  {
   "cell_type": "markdown",
   "metadata": {},
   "source": [
    "# 2. Loading data set"
   ]
  },
  {
   "cell_type": "code",
   "execution_count": 2,
   "metadata": {},
   "outputs": [],
   "source": [
    "# Loading load_wine() data set \n",
    "\n",
    "dataset_wine = datasets.load_wine()\n",
    "\n"
   ]
  },
  {
   "cell_type": "markdown",
   "metadata": {},
   "source": [
    "# 3. Creating Hold-out Enviornment"
   ]
  },
  {
   "cell_type": "code",
   "execution_count": 3,
   "metadata": {},
   "outputs": [],
   "source": [
    "# Creating hold-out enviornment\n",
    "\n",
    "winedata_train, winedata_test, winetarget_train, winetarget_test = train_test_split(dataset_wine.data, dataset_wine.target, test_size=0.3)"
   ]
  },
  {
   "cell_type": "markdown",
   "metadata": {},
   "source": [
    "# 4.  Building KNN model \n",
    "\n",
    "We will use training data set created in step 3 for model training(or learning). The supervised model we will be building now is KNN classifier. KNN classifier requires user to specify number of nearest neighbor to train the model.  Here, user can try different values of K to test the performance of the classifier. If user does not specify the value of K then, the model takes the default value of 5. "
   ]
  },
  {
   "cell_type": "code",
   "execution_count": 4,
   "metadata": {},
   "outputs": [],
   "source": [
    "#Create a KNN Classifier. The KNeighborsClassifier function takes value of k.\n",
    "\n",
    "KNNnmodel_1 = KNeighborsClassifier(n_neighbors = 4)  # value of K entered  is 4. \n",
    "\n",
    "#Train the model using the training sets\n",
    "\n",
    "KNNfitted_1 = KNNnmodel_1.fit(winedata_train, winetarget_train)"
   ]
  },
  {
   "cell_type": "markdown",
   "metadata": {},
   "source": [
    "# 5. Testing trained KNN model on the test set "
   ]
  },
  {
   "cell_type": "code",
   "execution_count": 5,
   "metadata": {},
   "outputs": [],
   "source": [
    "\n",
    "#Predict the response on the test data set\n",
    "\n",
    "KNN_predictions_1 = KNNfitted_1.predict((winedata_test))"
   ]
  },
  {
   "cell_type": "markdown",
   "metadata": {},
   "source": [
    "# 6. Evaluating the performance of the model "
   ]
  },
  {
   "cell_type": "code",
   "execution_count": 6,
   "metadata": {},
   "outputs": [
    {
     "name": "stdout",
     "output_type": "stream",
     "text": [
      "Accuracy: 76.0 %\n",
      "---------------\n",
      "Confusion matrix\n",
      "---------------\n",
      "[[16  0  4]\n",
      " [ 1 17  2]\n",
      " [ 1  5  8]]\n",
      "---------------\n",
      "Classification report              precision    recall  f1-score   support\n",
      "\n",
      "    class 0       0.89      0.80      0.84        20\n",
      "    class 1       0.77      0.85      0.81        20\n",
      "    class 2       0.57      0.57      0.57        14\n",
      "\n",
      "avg / total       0.76      0.76      0.76        54\n",
      "\n"
     ]
    }
   ],
   "source": [
    "# Computing Model Accuracy\n",
    "\n",
    "print(\"Accuracy:\",round(metrics.accuracy_score(winetarget_test, KNN_predictions_1),2) * 100, \"%\")\n",
    "\n",
    "print (\"---------------\")\n",
    "\n",
    "# Printing confusion matrix\n",
    "\n",
    "print (\"Confusion matrix\")\n",
    "\n",
    "print (\"---------------\")\n",
    "\n",
    "print(metrics.confusion_matrix(winetarget_test, KNN_predictions_1))\n",
    "\n",
    "# Model detailed classification report\n",
    "target_names = ['class 0', 'class 1', 'class 2']\n",
    "\n",
    "\n",
    "print (\"---------------\")\n",
    "\n",
    "print(\"Classification report\", metrics.classification_report(winetarget_test, KNN_predictions_1,target_names =target_names))"
   ]
  },
  {
   "cell_type": "markdown",
   "metadata": {},
   "source": [
    "# KNN on user specific data set"
   ]
  },
  {
   "cell_type": "markdown",
   "metadata": {},
   "source": [
    "# 1. Loading data set"
   ]
  },
  {
   "cell_type": "code",
   "execution_count": 7,
   "metadata": {},
   "outputs": [],
   "source": [
    "# Loading data set from local machine. The data set on predicting liver disorder.\n",
    "    \n",
    "My_dataset = pd.read_csv('/Users/sakshibabbar/Documents/ML/Supervised learning/datasets/liver_dataset.csv')"
   ]
  },
  {
   "cell_type": "markdown",
   "metadata": {},
   "source": [
    "# 2. Dividing data set into sets  of indicator and predictive variables"
   ]
  },
  {
   "cell_type": "code",
   "execution_count": 8,
   "metadata": {},
   "outputs": [],
   "source": [
    "# My_data contains all data points from My_data set from from first feature to  6th feature(indicator features)\n",
    "My_data = My_dataset.iloc[:,0:6].values \n",
    "\n",
    "# My_target contains class information which is 7th feature in the data set of all the data points in My_dataset\n",
    "\n",
    "My_target=My_dataset.iloc[:,6].values "
   ]
  },
  {
   "cell_type": "markdown",
   "metadata": {},
   "source": [
    "# 3. Creating Hold-out enviornment for the data set in step above"
   ]
  },
  {
   "cell_type": "code",
   "execution_count": 9,
   "metadata": {},
   "outputs": [],
   "source": [
    "#  The pair of arrays liverdata_train and  livertarget_train will be used for learning the sueprvised model. \n",
    "# Whereas, liverdata_test and  livertarget_test for model testing\n",
    "\n",
    "liverdata_train, liverdata_test, livertarget_train, livertarget_test = train_test_split(My_data, My_target, test_size=0.3)\n",
    "\n"
   ]
  },
  {
   "cell_type": "markdown",
   "metadata": {},
   "source": [
    "# 4.  Building KNN model"
   ]
  },
  {
   "cell_type": "code",
   "execution_count": 19,
   "metadata": {},
   "outputs": [],
   "source": [
    "#Create a KNN Classifier. The KNeighborsClassifier function takes value of k.\n",
    "\n",
    "KNNnmodel_2 = KNeighborsClassifier(n_neighbors = 13)\n",
    "\n",
    "#Train the model using the training sets\n",
    "\n",
    "KNNfitted_2 = KNNnmodel_2 .fit(liverdata_train, livertarget_train)"
   ]
  },
  {
   "cell_type": "markdown",
   "metadata": {},
   "source": [
    "# 5. Testing trained KNN model on the test set"
   ]
  },
  {
   "cell_type": "code",
   "execution_count": 20,
   "metadata": {},
   "outputs": [],
   "source": [
    "\n",
    "#Predict the response on the test data set\n",
    "\n",
    "KNN_predictions_2 = KNNfitted_2.predict((liverdata_test))"
   ]
  },
  {
   "cell_type": "markdown",
   "metadata": {},
   "source": [
    "# 6. Evaluating the performance of the model"
   ]
  },
  {
   "cell_type": "code",
   "execution_count": 21,
   "metadata": {},
   "outputs": [
    {
     "name": "stdout",
     "output_type": "stream",
     "text": [
      "Accuracy: 65.0 %\n",
      "---------------\n",
      "Confusion matrix\n",
      "---------------\n",
      "[[24 17]\n",
      " [19 44]]\n",
      "---------------\n",
      "Classification report              precision    recall  f1-score   support\n",
      "\n",
      "   disorder       0.56      0.59      0.57        41\n",
      " nodisorder       0.72      0.70      0.71        63\n",
      "\n",
      "avg / total       0.66      0.65      0.66       104\n",
      "\n"
     ]
    }
   ],
   "source": [
    "# Computing Model Accuracy\n",
    "\n",
    "print(\"Accuracy:\",round(metrics.accuracy_score(livertarget_test, KNN_predictions_2),2) * 100, \"%\")\n",
    "\n",
    "print (\"---------------\")\n",
    "\n",
    "# Printing confusion matrix\n",
    "\n",
    "\n",
    "print (\"Confusion matrix\")\n",
    "\n",
    "print (\"---------------\")\n",
    "print(metrics.confusion_matrix(livertarget_test, KNN_predictions_2))\n",
    "\n",
    "\n",
    "# User specific target names   \n",
    "    \n",
    "target_names = ['disorder', 'nodisorder']\n",
    "\n",
    "# Model detailed classification report\n",
    "\n",
    "print (\"---------------\")\n",
    "print(\"Classification report\", metrics.classification_report(livertarget_test, KNN_predictions_2,target_names =target_names))"
   ]
  },
  {
   "cell_type": "code",
   "execution_count": null,
   "metadata": {},
   "outputs": [],
   "source": []
  }
 ],
 "metadata": {
  "kernelspec": {
   "display_name": "Python 3",
   "language": "python",
   "name": "python3"
  },
  "language_info": {
   "codemirror_mode": {
    "name": "ipython",
    "version": 3
   },
   "file_extension": ".py",
   "mimetype": "text/x-python",
   "name": "python",
   "nbconvert_exporter": "python",
   "pygments_lexer": "ipython3",
   "version": "3.6.5"
  }
 },
 "nbformat": 4,
 "nbformat_minor": 2
}
