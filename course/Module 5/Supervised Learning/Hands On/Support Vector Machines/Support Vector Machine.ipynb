{
 "cells": [
  {
   "cell_type": "markdown",
   "metadata": {},
   "source": [
    "# Learning SVM training and Testing using Hold-Out method\n",
    "\n",
    "# The code below demonstrates how SVM model is trained and tested under Hold-Out method. For better understanding, codes below explains building and testing SVM model on data set supported in scikit learn and user specific data set. \n"
   ]
  },
  {
   "cell_type": "markdown",
   "metadata": {},
   "source": [
    "# 1. Loading libraries"
   ]
  },
  {
   "cell_type": "code",
   "execution_count": 1,
   "metadata": {},
   "outputs": [],
   "source": [
    "import pandas as pd\n",
    "from sklearn import datasets # imports built in data sets supported in scikit learn \n",
    "from sklearn import svm   # imports SVM classifier\n",
    "from sklearn import metrics\n",
    "from sklearn.model_selection import train_test_split # using scikit learn for hold-out"
   ]
  },
  {
   "cell_type": "markdown",
   "metadata": {},
   "source": [
    "# 2. Loading data set"
   ]
  },
  {
   "cell_type": "code",
   "execution_count": 2,
   "metadata": {},
   "outputs": [],
   "source": [
    "# Loading load_wine() data set \n",
    "\n",
    "dataset_wine = datasets.load_wine()\n"
   ]
  },
  {
   "cell_type": "markdown",
   "metadata": {},
   "source": [
    "# 3. Creating Hold-out Enviornment"
   ]
  },
  {
   "cell_type": "code",
   "execution_count": 3,
   "metadata": {},
   "outputs": [],
   "source": [
    "# Creating hold-out enviornment\n",
    "\n",
    "winedata_train, winedata_test, winetarget_train, winetarget_test = train_test_split(dataset_wine.data, dataset_wine.target, test_size=0.3)\n",
    "\n",
    "#The pair of arrays winedata_train and  winetarget_train will be used for learning\n",
    "#the sueprvised model. \n",
    "#Whereas, winedata_test and  winetarget_test for model testing"
   ]
  },
  {
   "cell_type": "markdown",
   "metadata": {},
   "source": [
    "# 4.  Building SVM model \n",
    "\n",
    "We will use training data set created in step 3 for model training(or learning). The supervised model we will be building now is Support Vector Machines(SVM). SVM by theory supports different types of kernels such as, linear, polynomial and radial basis. Where linear kernel is suitable for linearly separable problems whereas, other for non-linearly separable problems. For building SVM model, we try with different types of kernel to discover best kernel for given problem based on performance of model on unknown observation. "
   ]
  },
  {
   "cell_type": "code",
   "execution_count": 18,
   "metadata": {},
   "outputs": [],
   "source": [
    "#Create a svm Classifier. The various kernel supported in scikit learn are linear, poly and rbf.\n",
    "\n",
    "SVMmodel_1 = svm.SVC(kernel='rbf') # Linear Kernel\n",
    "\n",
    "#Train the model using the training sets\n",
    "\n",
    "SVMfitted_1 = SVMmodel_1.fit(winedata_train, winetarget_train)"
   ]
  },
  {
   "cell_type": "markdown",
   "metadata": {},
   "source": [
    "# 5. Testing trained SVM model on the test set "
   ]
  },
  {
   "cell_type": "code",
   "execution_count": 19,
   "metadata": {},
   "outputs": [],
   "source": [
    "\n",
    "#Predict the response on the test data set\n",
    "\n",
    "SVM_predictions_1 = SVMfitted_1.predict((winedata_test))"
   ]
  },
  {
   "cell_type": "markdown",
   "metadata": {},
   "source": [
    "# 6. Evaluating the performance of the model "
   ]
  },
  {
   "cell_type": "code",
   "execution_count": 20,
   "metadata": {},
   "outputs": [
    {
     "name": "stdout",
     "output_type": "stream",
     "text": [
      "Accuracy: 41.0 %\n",
      "---------------\n",
      "Confusion matrix\n",
      "---------------\n",
      "[[ 1 20  0]\n",
      " [ 0 19  0]\n",
      " [ 0 12  2]]\n",
      "---------------\n",
      "Classification report              precision    recall  f1-score   support\n",
      "\n",
      "    class 0       1.00      0.05      0.09        21\n",
      "    class 1       0.37      1.00      0.54        19\n",
      "    class 2       1.00      0.14      0.25        14\n",
      "\n",
      "avg / total       0.78      0.41      0.29        54\n",
      "\n"
     ]
    }
   ],
   "source": [
    "# Computing Model Accuracy\n",
    "\n",
    "print(\"Accuracy:\",round(metrics.accuracy_score(winetarget_test, SVM_predictions_1),2) * 100, \"%\")\n",
    "\n",
    "print (\"---------------\")\n",
    "\n",
    "# Printing confusion matrix\n",
    "\n",
    "print (\"Confusion matrix\")\n",
    "\n",
    "print (\"---------------\")\n",
    "\n",
    "print(metrics.confusion_matrix(winetarget_test, SVM_predictions_1))\n",
    "\n",
    "# Model detailed classification report\n",
    "target_names = ['class 0', 'class 1', 'class 2']\n",
    "\n",
    "\n",
    "print (\"---------------\")\n",
    "\n",
    "print(\"Classification report\", metrics.classification_report(winetarget_test, SVM_predictions_1,target_names =target_names))"
   ]
  },
  {
   "cell_type": "markdown",
   "metadata": {},
   "source": [
    "# SVM on user specific data set"
   ]
  },
  {
   "cell_type": "markdown",
   "metadata": {},
   "source": [
    "# 1. Loading data set"
   ]
  },
  {
   "cell_type": "code",
   "execution_count": 7,
   "metadata": {},
   "outputs": [],
   "source": [
    "# Loading data set from local machine. The data set on predicting liver disorder.\n",
    "    \n",
    "My_dataset = pd.read_csv('/Users/sakshibabbar/Documents/ML/Supervised learning/datasets/liver_dataset.csv')"
   ]
  },
  {
   "cell_type": "markdown",
   "metadata": {},
   "source": [
    "# 2. Dividing data set into sets  of indicator and predictive variables"
   ]
  },
  {
   "cell_type": "code",
   "execution_count": 10,
   "metadata": {},
   "outputs": [
    {
     "name": "stdout",
     "output_type": "stream",
     "text": [
      "[[85. 92. 45. 27. 31.  0.]\n",
      " [85. 64. 59. 32. 23.  0.]\n",
      " [86. 54. 33. 16. 54.  0.]\n",
      " ...\n",
      " [98. 77. 55. 35. 89. 15.]\n",
      " [91. 68. 27. 26. 14. 16.]\n",
      " [98. 99. 57. 45. 65. 20.]]\n",
      "[1 2 2 2 2 2 1 1 1 1 1 1 1 1 1 1 1 1 1 1 1 1 1 1 1 1 1 1 1 1 1 1 1 1 1 2 2\n",
      " 2 2 2 2 2 2 2 2 2 2 2 2 2 2 2 2 2 2 2 2 2 2 2 2 2 2 2 1 1 2 2 2 2 1 1 1 1\n",
      " 1 1 2 2 2 2 2 2 2 2 2 2 2 2 1 1 1 1 1 1 1 1 2 2 2 2 2 2 1 1 1 1 1 1 1 2 2\n",
      " 2 2 2 2 2 2 2 2 2 2 2 2 2 2 2 2 2 2 2 1 1 2 2 2 2 2 2 2 2 1 1 1 1 1 1 1 1\n",
      " 1 1 2 2 2 2 2 2 2 2 2 2 2 2 2 2 2 2 1 1 2 1 1 1 1 1 1 1 2 2 2 2 2 1 1 2 2\n",
      " 2 2 2 1 1 1 1 2 1 1 1 1 1 1 1 1 1 1 1 1 1 1 1 1 1 1 1 1 1 1 1 1 2 2 2 2 2\n",
      " 2 2 2 2 2 2 2 2 2 2 2 2 2 2 2 2 2 2 2 2 2 1 1 1 1 1 1 2 2 2 2 2 1 1 1 1 1\n",
      " 1 1 1 1 2 2 2 2 2 2 2 2 1 1 1 2 2 2 2 1 2 2 2 2 2 2 2 2 2 2 2 2 2 2 2 2 2\n",
      " 2 2 2 2 2 2 2 2 2 2 2 1 1 1 1 1 1 1 1 1 1 1 2 2 2 2 2 2 1 1 1 1 1 2 2 2 2\n",
      " 2 1 1 2 2 2 2 1 2 1 1 1]\n"
     ]
    }
   ],
   "source": [
    "# My_data contains all data points from My_data set from from first feature to  6th feature(indicator features)\n",
    "My_data = My_dataset.iloc[:,0:6].values \n",
    "\n",
    "# My_target contains class information which is 7th feature in the data set of all the data points in My_dataset\n",
    "\n",
    "My_target=My_dataset.iloc[:,6].values \n",
    "\n",
    "print(My_data)\n",
    "print(My_target)"
   ]
  },
  {
   "cell_type": "markdown",
   "metadata": {},
   "source": [
    "# 3. Creating Hold-out enviornment for the data set in step above"
   ]
  },
  {
   "cell_type": "code",
   "execution_count": 11,
   "metadata": {},
   "outputs": [],
   "source": [
    "#  The pair of arrays liverdata_train and  livertarget_train will be used for learning the sueprvised model. \n",
    "# Whereas, liverdata_test and  livertarget_test for model testing\n",
    "\n",
    "liverdata_train, liverdata_test, livertarget_train, livertarget_test = train_test_split(My_data, My_target, test_size=0.3)\n",
    "\n"
   ]
  },
  {
   "cell_type": "markdown",
   "metadata": {},
   "source": [
    "# 4.  Building SVM model"
   ]
  },
  {
   "cell_type": "code",
   "execution_count": 15,
   "metadata": {},
   "outputs": [],
   "source": [
    "#Create a svm Classifier. The various kernel supported in scikit learn are linear, poly and rbf.\n",
    "\n",
    "SVMmodel_2 = svm.SVC(kernel='rbf') # Linear Kernel\n",
    "\n",
    "#Train the model using the training sets\n",
    "\n",
    "SVMfitted_2 = SVMmodel_2.fit(liverdata_train, livertarget_train)"
   ]
  },
  {
   "cell_type": "markdown",
   "metadata": {},
   "source": [
    "# 5. Testing trained SVM model on the test set"
   ]
  },
  {
   "cell_type": "code",
   "execution_count": 16,
   "metadata": {},
   "outputs": [],
   "source": [
    "\n",
    "#Predict the response on the test data set\n",
    "\n",
    "SVM_predictions_2 = SVMfitted_2.predict((liverdata_test))"
   ]
  },
  {
   "cell_type": "markdown",
   "metadata": {},
   "source": [
    "# 6. Evaluating the performance of the model"
   ]
  },
  {
   "cell_type": "code",
   "execution_count": 17,
   "metadata": {},
   "outputs": [
    {
     "name": "stdout",
     "output_type": "stream",
     "text": [
      "Accuracy: 62.0 %\n",
      "---------------\n",
      "Confusion matrix\n",
      "---------------\n",
      "[[ 3 39]\n",
      " [ 0 62]]\n",
      "---------------\n",
      "Classification report              precision    recall  f1-score   support\n",
      "\n",
      "   disorder       1.00      0.07      0.13        42\n",
      " nodisorder       0.61      1.00      0.76        62\n",
      "\n",
      "avg / total       0.77      0.62      0.51       104\n",
      "\n"
     ]
    }
   ],
   "source": [
    "# Computing Model Accuracy\n",
    "\n",
    "print(\"Accuracy:\",round(metrics.accuracy_score(livertarget_test, SVM_predictions_2),2) * 100, \"%\")\n",
    "\n",
    "print (\"---------------\")\n",
    "\n",
    "# Printing confusion matrix\n",
    "\n",
    "\n",
    "print (\"Confusion matrix\")\n",
    "\n",
    "print (\"---------------\")\n",
    "print(metrics.confusion_matrix(livertarget_test, SVM_predictions_2))\n",
    "\n",
    "\n",
    "# User specific target names   \n",
    "    \n",
    "target_names = ['disorder', 'nodisorder']\n",
    "\n",
    "# Model detailed classification report\n",
    "\n",
    "print (\"---------------\")\n",
    "print(\"Classification report\", metrics.classification_report(livertarget_test, SVM_predictions_2,target_names =target_names))"
   ]
  },
  {
   "cell_type": "code",
   "execution_count": null,
   "metadata": {},
   "outputs": [],
   "source": []
  }
 ],
 "metadata": {
  "kernelspec": {
   "display_name": "Python 3",
   "language": "python",
   "name": "python3"
  },
  "language_info": {
   "codemirror_mode": {
    "name": "ipython",
    "version": 3
   },
   "file_extension": ".py",
   "mimetype": "text/x-python",
   "name": "python",
   "nbconvert_exporter": "python",
   "pygments_lexer": "ipython3",
   "version": "3.6.5"
  }
 },
 "nbformat": 4,
 "nbformat_minor": 2
}
