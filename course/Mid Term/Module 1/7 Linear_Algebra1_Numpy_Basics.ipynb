{
 "cells": [
  {
   "cell_type": "markdown",
   "metadata": {},
   "source": [
    "# Numpy basics "
   ]
  },
  {
   "cell_type": "markdown",
   "metadata": {},
   "source": [
    "### 1)  Array creation"
   ]
  },
  {
   "cell_type": "code",
   "execution_count": 1,
   "metadata": {},
   "outputs": [
    {
     "name": "stdout",
     "output_type": "stream",
     "text": [
      "[1. 2. 3.]\n",
      "(3,)\n",
      "float64\n"
     ]
    }
   ],
   "source": [
    "# create array\n",
    "from numpy import array\n",
    "# create array\n",
    "l = [1.0, 2.0, 3.0]\n",
    "a = array(l)\n",
    "# display array\n",
    "print(a)\n",
    "# display array shape\n",
    "print(a.shape)\n",
    "# display array data type\n",
    "print(a.dtype)\n"
   ]
  },
  {
   "cell_type": "code",
   "execution_count": 6,
   "metadata": {},
   "outputs": [
    {
     "name": "stdout",
     "output_type": "stream",
     "text": [
      "Print Empty Array \n",
      "[[0.00000000e+000 0.00000000e+000 0.00000000e+000]\n",
      " [0.00000000e+000 0.00000000e+000 4.86160596e-321]\n",
      " [8.90060779e-307 9.05567908e-072 0.00000000e+000]]\n"
     ]
    }
   ],
   "source": [
    "# create empty array\n",
    "from numpy import empty\n",
    "b = empty([3,3])\n",
    "print(\"Print Empty Array \")\n",
    "print(b)\n"
   ]
  },
  {
   "cell_type": "markdown",
   "metadata": {},
   "source": [
    "### Why is this array not empty? "
   ]
  },
  {
   "cell_type": "code",
   "execution_count": 9,
   "metadata": {},
   "outputs": [
    {
     "name": "stdout",
     "output_type": "stream",
     "text": [
      "Create Array of Zeros\n",
      "[[0. 0. 0. 0. 0.]\n",
      " [0. 0. 0. 0. 0.]\n",
      " [0. 0. 0. 0. 0.]]\n"
     ]
    }
   ],
   "source": [
    "# create zero array\n",
    "from numpy import zeros\n",
    "a = zeros([3,5])\n",
    "print(\"Create Array of Zeros\")\n",
    "print(a)"
   ]
  },
  {
   "cell_type": "code",
   "execution_count": 11,
   "metadata": {},
   "outputs": [
    {
     "name": "stdout",
     "output_type": "stream",
     "text": [
      "[1. 1. 1. 1. 1.]\n",
      "float64\n"
     ]
    }
   ],
   "source": [
    "# create  array  of ones \n",
    "\n",
    "from numpy import ones\n",
    "c= ones([5])\n",
    "print(c)\n",
    "print(c.dtype)"
   ]
  },
  {
   "cell_type": "markdown",
   "metadata": {},
   "source": [
    "### 2)   Combining arrays \n",
    "\n"
   ]
  },
  {
   "cell_type": "code",
   "execution_count": 13,
   "metadata": {},
   "outputs": [
    {
     "name": "stdout",
     "output_type": "stream",
     "text": [
      "[1 2 3]\n",
      "[4 5 6]\n",
      " vertically stacking arrays \n",
      "[[1 2 3]\n",
      " [4 5 6]]\n",
      "(2, 3)\n"
     ]
    }
   ],
   "source": [
    "#  Vertical stacking \n",
    "#-------------------------------\n",
    "\n",
    "from numpy import array\n",
    "from numpy import vstack\n",
    "# create first array\n",
    "a1 = array([1,2,3])\n",
    "print(a1)\n",
    "# create second array\n",
    "a2 = array([4,5,6])\n",
    "print(a2)\n",
    "#--\n",
    "print(\" vertically stacking arrays \")\n",
    "# vertical stack\n",
    "a3 = vstack((a1, a2))\n",
    "print(a3)\n",
    "print(a3.shape)"
   ]
  },
  {
   "cell_type": "code",
   "execution_count": 14,
   "metadata": {},
   "outputs": [
    {
     "name": "stdout",
     "output_type": "stream",
     "text": [
      "[1 2 3]\n",
      "[4 5 6]\n",
      "[1 2 3 4 5 6]\n",
      "(6,)\n"
     ]
    }
   ],
   "source": [
    "# Horizontal stacking \n",
    "\n",
    "from numpy import array\n",
    "from numpy import hstack\n",
    "# create first array\n",
    "a1 = array([1,2,3])\n",
    "print(a1)\n",
    "# create second array\n",
    "a2 = array([4,5,6])\n",
    "print(a2)\n",
    "# create horizontal stack\n",
    "a3 = hstack((a1, a2))\n",
    "print(a3)\n",
    "print(a3.shape)"
   ]
  },
  {
   "cell_type": "markdown",
   "metadata": {},
   "source": [
    "### 3) List to Arrays \n",
    "\n"
   ]
  },
  {
   "cell_type": "code",
   "execution_count": 15,
   "metadata": {},
   "outputs": [
    {
     "name": "stdout",
     "output_type": "stream",
     "text": [
      "[11 22 33 44 55]\n",
      "<class 'numpy.ndarray'>\n"
     ]
    }
   ],
   "source": [
    "# 1D list to array \n",
    "\n",
    "from numpy import array\n",
    "# list of data\n",
    "data = [11, 22, 33, 44, 55]\n",
    "# array of data\n",
    "data = array(data)\n",
    "print(data)\n",
    "print(type(data))"
   ]
  },
  {
   "cell_type": "code",
   "execution_count": 17,
   "metadata": {},
   "outputs": [
    {
     "name": "stdout",
     "output_type": "stream",
     "text": [
      "[[11 22]\n",
      " [33 44]\n",
      " [55 66]]\n",
      "<class 'numpy.ndarray'>\n",
      "(3, 2)\n"
     ]
    }
   ],
   "source": [
    "# lists of lists to 2D array \n",
    "# # create two-dimensional array\n",
    "from numpy import array\n",
    "# list of data\n",
    "data = [[11, 22],\n",
    "[33, 44],\n",
    "[55, 66]]\n",
    "# array of data\n",
    "data = array(data)\n",
    "print(data)\n",
    "print(type(data))\n",
    "print(data.shape)"
   ]
  },
  {
   "cell_type": "markdown",
   "metadata": {},
   "source": [
    "### 4) Array Indexing "
   ]
  },
  {
   "cell_type": "code",
   "execution_count": 18,
   "metadata": {},
   "outputs": [
    {
     "name": "stdout",
     "output_type": "stream",
     "text": [
      "11\n",
      "55\n"
     ]
    }
   ],
   "source": [
    "# index a one-dimensional array\n",
    "from numpy import array\n",
    "# define array\n",
    "data = array([11, 22, 33, 44, 55])\n",
    "# index data\n",
    "print(data[0])\n",
    "print(data[4])\n"
   ]
  },
  {
   "cell_type": "code",
   "execution_count": 19,
   "metadata": {},
   "outputs": [
    {
     "name": "stdout",
     "output_type": "stream",
     "text": [
      "11\n"
     ]
    }
   ],
   "source": [
    "# two dimensional indexing \n",
    "# index two-dimensional array\n",
    "from numpy import array\n",
    "# define array\n",
    "data = array([\n",
    "[11, 22],\n",
    "[33, 44],\n",
    "[55, 66]])\n",
    "# index data\n",
    "print(data[0,0])\n"
   ]
  },
  {
   "cell_type": "markdown",
   "metadata": {},
   "source": [
    "### 5) Array slicing \n"
   ]
  },
  {
   "cell_type": "code",
   "execution_count": 20,
   "metadata": {},
   "outputs": [
    {
     "name": "stdout",
     "output_type": "stream",
     "text": [
      "[11]\n"
     ]
    }
   ],
   "source": [
    "# slice a subset of a one-dimensional array\n",
    "from numpy import array\n",
    "# define array\n",
    "data = array([11, 22, 33, 44, 55])\n",
    "print(data[0:1])"
   ]
  },
  {
   "cell_type": "code",
   "execution_count": 21,
   "metadata": {},
   "outputs": [
    {
     "name": "stdout",
     "output_type": "stream",
     "text": [
      "[44 55]\n"
     ]
    }
   ],
   "source": [
    "# negative slicing of a one-dimensional array\n",
    "from numpy import array\n",
    "# define array\n",
    "data = array([11, 22, 33, 44, 55])\n",
    "print(data[-2:])"
   ]
  },
  {
   "cell_type": "code",
   "execution_count": 22,
   "metadata": {},
   "outputs": [
    {
     "name": "stdout",
     "output_type": "stream",
     "text": [
      "[[11 22]\n",
      " [44 55]\n",
      " [77 88]]\n",
      "[33 66 99]\n"
     ]
    }
   ],
   "source": [
    "# split input and output data\n",
    "from numpy import array\n",
    "# define array\n",
    "data = array([\n",
    "[11, 22, 33],\n",
    "[44, 55, 66],\n",
    "[77, 88, 99]])\n",
    "# separate data\n",
    "X, y = data[:, :-1], data[:, -1]\n",
    "print(X)\n",
    "print(y)"
   ]
  },
  {
   "cell_type": "markdown",
   "metadata": {},
   "source": [
    "### 6) Array reshaping "
   ]
  },
  {
   "cell_type": "code",
   "execution_count": 24,
   "metadata": {},
   "outputs": [
    {
     "name": "stdout",
     "output_type": "stream",
     "text": [
      "(5,)\n"
     ]
    }
   ],
   "source": [
    "# shape of 1D array \n",
    "from numpy import array\n",
    "# define array\n",
    "data = array([11, 22, 33, 44, 55])\n",
    "print(data.shape)"
   ]
  },
  {
   "cell_type": "code",
   "execution_count": 26,
   "metadata": {},
   "outputs": [
    {
     "name": "stdout",
     "output_type": "stream",
     "text": [
      "(3, 2)\n"
     ]
    }
   ],
   "source": [
    "# shape of a two-dimensional array\n",
    "from numpy import array\n",
    "# list of data\n",
    "data = [[11, 22],\n",
    "[33, 44],\n",
    "[55, 66]]\n",
    "# array of data\n",
    "data = array(data)\n",
    "print(data.shape)"
   ]
  },
  {
   "cell_type": "code",
   "execution_count": 27,
   "metadata": {},
   "outputs": [
    {
     "name": "stdout",
     "output_type": "stream",
     "text": [
      "Rows: 3\n",
      "Cols: 2\n"
     ]
    }
   ],
   "source": [
    "# row and column shape of two-dimensional array\n",
    "from numpy import array\n",
    "# list of data\n",
    "data = [[11, 22],\n",
    "[33, 44],\n",
    "[55, 66]]\n",
    "# array of data\n",
    "data = array(data)\n",
    "print('Rows: %d' % data.shape[0])\n",
    "print('Cols: %d' % data.shape[1])"
   ]
  },
  {
   "cell_type": "code",
   "execution_count": 28,
   "metadata": {},
   "outputs": [
    {
     "name": "stdout",
     "output_type": "stream",
     "text": [
      "(5,)\n",
      "(5, 1)\n"
     ]
    }
   ],
   "source": [
    "# reshape 1D array to 2D\n",
    "from numpy import array\n",
    "# define array\n",
    "data = array([11, 22, 33, 44, 55])\n",
    "print(data.shape)\n",
    "# reshape\n",
    "data = data.reshape((data.shape[0], 1))\n",
    "print(data.shape)"
   ]
  },
  {
   "cell_type": "code",
   "execution_count": 29,
   "metadata": {},
   "outputs": [
    {
     "name": "stdout",
     "output_type": "stream",
     "text": [
      "(3, 2)\n",
      "(3, 2, 1)\n"
     ]
    }
   ],
   "source": [
    "# reshape 2D array to 3D\n",
    "from numpy import array\n",
    "# list of data\n",
    "data = [[11, 22],\n",
    "[33, 44],\n",
    "[55, 66]]\n",
    "# array of data\n",
    "data = array(data)\n",
    "print(data.shape)\n",
    "# reshape\n",
    "data = data.reshape((data.shape[0], data.shape[1], 1))\n",
    "print(data.shape)\n"
   ]
  },
  {
   "cell_type": "markdown",
   "metadata": {},
   "source": [
    "#  Array Broadcasting"
   ]
  },
  {
   "cell_type": "markdown",
   "metadata": {},
   "source": [
    "## Broadcasting : What is it? \n",
    "\n",
    "### Broadcasting is the name given to the method that NumPy uses to allow array arithmetic between arrays with a different shape or size.\n",
    "### Although the technique was developed for NumPy, it has also been adopted more broadly in other numerical computational libraries, such as Theano, TensorFlow, and Octave."
   ]
  },
  {
   "cell_type": "code",
   "execution_count": 32,
   "metadata": {},
   "outputs": [
    {
     "name": "stdout",
     "output_type": "stream",
     "text": [
      "1D array is :  [1 2 3]\n",
      "scalar is :  2\n",
      " c = a+b is :  [3 4 5]\n"
     ]
    }
   ],
   "source": [
    "# broadcast  (add) a  scalar to one-dimensional array\n",
    "\n",
    "\n",
    "from numpy import array\n",
    "# define array\n",
    "a = array([1, 2, 3])\n",
    "print(\"1D array is : \", a)\n",
    "# define scalar\n",
    "b = 2\n",
    "print(\"scalar is : \", b)\n",
    "# broadcast\n",
    "c = a + b\n",
    "print(\" c = a+b is : \",c)"
   ]
  },
  {
   "cell_type": "code",
   "execution_count": 36,
   "metadata": {},
   "outputs": [
    {
     "name": "stdout",
     "output_type": "stream",
     "text": [
      " 2D Array is :  [[1 2 3]\n",
      " [1 2 3]]\n",
      "Scalar is :  2\n",
      "C = A + b is :  [[3 4 5]\n",
      " [3 4 5]]\n"
     ]
    }
   ],
   "source": [
    "# broadcast scalar to two-dimensional array\n",
    "\n",
    "from numpy import array\n",
    "# define array\n",
    "A = array([\n",
    "[1, 2, 3],\n",
    "[1, 2, 3]])\n",
    "print(\" 2D Array is : \",A)\n",
    "# define scalar\n",
    "b = 2\n",
    "print(\"Scalar is : \",b)\n",
    "# broadcast\n",
    "C = A + b\n",
    "print(\"C = A + b is : \",C)"
   ]
  },
  {
   "cell_type": "code",
   "execution_count": null,
   "metadata": {},
   "outputs": [],
   "source": [
    "# broadcast one-dimensional array to two-dimensional array\n",
    "from numpy import array\n",
    "# define two-dimensional array\n",
    "A = array([\n",
    "[1, 2, 3],\n",
    "[1, 2, 3]])\n",
    "print(A)\n",
    "# define one-dimensional array\n",
    "b = array([1, 2, 3])\n",
    "print(b)\n",
    "# broadcast\n",
    "C = A + b\n",
    "print(C)"
   ]
  }
 ],
 "metadata": {
  "kernelspec": {
   "display_name": "Python 3",
   "language": "python",
   "name": "python3"
  },
  "language_info": {
   "codemirror_mode": {
    "name": "ipython",
    "version": 3
   },
   "file_extension": ".py",
   "mimetype": "text/x-python",
   "name": "python",
   "nbconvert_exporter": "python",
   "pygments_lexer": "ipython3",
   "version": "3.6.7"
  }
 },
 "nbformat": 4,
 "nbformat_minor": 2
}
